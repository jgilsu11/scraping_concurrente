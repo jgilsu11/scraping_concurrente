{
 "cells": [
  {
   "cell_type": "code",
   "execution_count": 1,
   "metadata": {},
   "outputs": [],
   "source": [
    "from bs4 import BeautifulSoup\n",
    "import requests\n",
    "import pandas as pd\n",
    "import numpy as np\n",
    "import random\n",
    "from tqdm import tqdm\n",
    "from time import sleep\n",
    "from selenium import webdriver  # Selenium es una herramienta para automatizar la interacción con navegadores web.\n",
    "from webdriver_manager.chrome import ChromeDriverManager  # ChromeDriverManager gestiona la instalación del controlador de Chrome.\n",
    "from selenium.webdriver.common.keys import Keys  # Keys es útil para simular eventos de teclado en Selenium.\n",
    "from selenium.webdriver.support.ui import Select  # Select se utiliza para interactuar con elementos <select> en páginas web.\n",
    "from selenium.webdriver.support.ui import WebDriverWait\n",
    "from selenium.webdriver.support import expected_conditions as EC\n",
    "from selenium.common.exceptions import NoSuchElementException\n",
    "\n",
    "\n",
    "from selenium.webdriver.common.action_chains import ActionChains\n",
    "from selenium.webdriver.common.by import By\n"
   ]
  },
  {
   "cell_type": "code",
   "execution_count": null,
   "metadata": {},
   "outputs": [],
   "source": [
    "# lista_de_tablas= []\n",
    "# df_final= pd.DataFrame()\n",
    "# for municipio in tqdm(lista_cinco):\n",
    "\n",
    "#     driver =webdriver.Chrome()\n",
    "    \n",
    "#     url_bueno= f\"https://www.wunderground.com/weather/es/{municipio}\"\n",
    "    \n",
    "    \n",
    "#     driver.get(url_bueno)\n",
    "#     driver.maximize_window()\n",
    "#     codigo= []\n",
    "\n",
    "#     iframe= WebDriverWait(driver, 10).until(EC.presence_of_element_located(('xpath','//*[@id=\"sp_message_iframe_1165301\"]')))       #A la pag q encuentres dale 10 segundos hasta que encuentres el iframe de las cookies\n",
    "\n",
    "#     driver.switch_to.frame(iframe)\n",
    "\n",
    "#     sleep(3)\n",
    "#     driver.find_element(\"css selector\",\"#notice > div.message-component.message-row.cta-buttons-container > div.message-component.message-column.cta-button-column.reject-column > button\").click()\n",
    "\n",
    "#     driver.switch_to.default_content() \n",
    "\n",
    "#     sleep(8)\n",
    "#     driver.find_element(\"css selector\", \"#inner-content > div.region-content-top > lib-city-header > div:nth-child(1) > div > div > a.station-name\").click()\n",
    "#     sleep(3)\n",
    "#     codigomun_sf= driver.find_element(\"css selector\", \"#inner-content > div.region-content-top > app-dashboard-header > div.dashboard__header.small-12.ng-star-inserted > div > div.heading > h1\").text\n",
    "\n",
    "#     codigosplit= codigomun_sf.split(\" - \")\n",
    "#     codigo_municipio= codigosplit[1]\n",
    "    \n",
    "\n",
    "#     # driver.find_element(\"css selector\", \"#modeSelect\").click()\n",
    "\n",
    "#     # driver.find_element(\"css selector\", \"#modeSelect > option:nth-child(3)\").click()\n",
    "\n",
    "#     # driver.find_element(\"css selector\", \"#main-page-content > div > div > div > lib-history > div.navigation-wrapper > div.selects > button\").click()\n",
    "\n",
    "#     # driver.find_element(\"css selector\", \"#history-tab-group > li:nth-child(2) > a\").click()\n",
    "    \n",
    "#     # tablina= driver.find_element(\"css selector\", \"#main-page-content > div > div > div > lib-history > div.history-tabs > lib-history-table > div > div\")\n",
    "\n",
    "#     for mes in tqdm(range(1,11)):\n",
    "#         url_cambios= f\"https://www.wunderground.com/dashboard/pws/{codigo_municipio}/table/2024-01-01/2024-{mes}-01/monthly\"\n",
    "#         driver.get(url_cambios)\n",
    "#         tablina= driver.find_element(\"css selector\", \"#main-page-content > div > div > div > lib-history > div.history-tabs > lib-history-table > div > div\").text\n",
    "#         lista_de_tablas.append(tablina)\n",
    "        \n",
    "#     #Hata aquí me lo hace bien    \n",
    "    \n",
    "#     for tabla in tqdm(lista_de_tablas):\n",
    "#         lista=tabla.split(\"\\n\")\n",
    "#         tabla_df=pd.DataFrame(lista, columns= [\"tablina\"])\n",
    "#         tabla_df.drop([0,1], inplace= True)\n",
    "#         tabla_df[\"tablina\"]= tabla_df[\"tablina\"].str.replace(\"°F\", \"\")\n",
    "#         tabla_df[\"tablina\"]= tabla_df[\"tablina\"].str.replace(\"mph\", \"\")\n",
    "#         tabla_df[\"tablina\"]= tabla_df[\"tablina\"].str.replace(\"in\", \"\")\n",
    "#         tabla_df[\"tablina\"]= tabla_df[\"tablina\"].str.replace(\"%\", \"\")\n",
    "#         tabla_df[\"tablina\"]= tabla_df[\"tablina\"].str.replace(\"  \", \" \")\n",
    "        \n",
    "#         tabla_df = tabla_df[\"tablina\"].str.split(\" \",expand=True)\n",
    "#         df_final=pd.concat([df_final,tabla_df], axis=0)\n",
    "\n",
    "\n",
    "#     driver.quit()\n",
    "# driver.close()    \n",
    "    "
   ]
  },
  {
   "cell_type": "markdown",
   "metadata": {},
   "source": [
    "sacar todos los nombre, meterlos en la url para que me salga la pag donde están las tablas de cáracteristicas y la imagen"
   ]
  },
  {
   "cell_type": "code",
   "execution_count": null,
   "metadata": {},
   "outputs": [],
   "source": [
    "\n",
    "    "
   ]
  },
  {
   "cell_type": "code",
   "execution_count": 2,
   "metadata": {},
   "outputs": [],
   "source": [
    "lista_nombres=[]\n",
    "driver =webdriver.Chrome()\n",
    "url_inmobiliaria= \"https://ehomemadrid.com/\"\n",
    "driver.get(url_inmobiliaria)\n",
    "driver.maximize_window()\n",
    "\n",
    "#encontramos el menú \"Nuestros Inmuebles\"\n",
    "menu_nuestros_inmuebles = driver.find_element(\"css selector\", \"#menu-item-1619 > a\")\n",
    "\n",
    "#simulación sobre menú para desplegar las opciones\n",
    "actions = ActionChains(driver)\n",
    "actions.move_to_element(menu_nuestros_inmuebles).perform()\n",
    "sleep(2)\n",
    "\n",
    "#pinchamos en todos sus inmuebles\n",
    "driver.find_element(\"css selector\", \"#menu-item-1642 > a\").click()\n",
    "\n",
    "#pinchamos en el nombre\n",
    "sleep(2)\n",
    "driver.find_element(\"css selector\", \"#main > div.properties-grid > div > div:nth-child(1) > div > div.title > h2 > a\").click()\n",
    "\n",
    "#conseguimos el nombre del inmueble\n",
    "sleep(3)\n",
    "nombre_inmueble = driver.find_element(\"css selector\", \"#main > h1\").text\n",
    "lista_nombres.append(nombre_inmueble.lower().replace(\" \", \"-\"))\n",
    "\n",
    "#conseguir la tabla de características\n",
    "tabla_caracteristicas = driver.find_element(\"css selector\", \"#main > div.property-detail > div.pull-left.overview > div > div > table\").text\n",
    "\n",
    "# Cerramos el navegador\n",
    "driver.close()\n"
   ]
  },
  {
   "cell_type": "code",
   "execution_count": 3,
   "metadata": {},
   "outputs": [
    {
     "data": {
      "text/plain": [
       "['virgen-de-la-capilla']"
      ]
     },
     "execution_count": 3,
     "metadata": {},
     "output_type": "execute_result"
    }
   ],
   "source": [
    "lista_nombres #esto si se puede meter en la url\n"
   ]
  },
  {
   "cell_type": "code",
   "execution_count": 5,
   "metadata": {},
   "outputs": [
    {
     "name": "stdout",
     "output_type": "stream",
     "text": [
      "<class 'pandas.core.frame.DataFrame'>\n",
      "RangeIndex: 1 entries, 1 to 1\n",
      "Data columns (total 8 columns):\n",
      " #   Column        Non-Null Count  Dtype  \n",
      "---  ------        --------------  -----  \n",
      " 0   id            1 non-null      float64\n",
      " 1   precio        1 non-null      float64\n",
      " 2   tipo          1 non-null      object \n",
      " 3   contrato      1 non-null      object \n",
      " 4   localizacion  1 non-null      object \n",
      " 5   banios        1 non-null      float64\n",
      " 6   habitaciones  1 non-null      float64\n",
      " 7   superficie    1 non-null      float64\n",
      "dtypes: float64(5), object(3)\n",
      "memory usage: 196.0+ bytes\n"
     ]
    }
   ],
   "source": [
    "#lo convierto en data frame\n",
    "lista_strings=tabla_caracteristicas.split(\"\\n\")\n",
    "df= pd.DataFrame(lista_strings, columns=[\"todo\"])\n",
    "\n",
    "#limpio el data frame\n",
    "df[\"todo\"]= df[\"todo\"].str.replace(\"#\", \"\")\n",
    "df[\"todo\"]= df[\"todo\"].str.replace(\" €\", \"\")\n",
    "df[\"todo\"]= df[\"todo\"].str.replace(\"m2\", \"\")\n",
    "df =df[\"todo\"].str.split(\": \", expand=True)\n",
    "\n",
    "#lista de encabezados y traspongo\n",
    "lista_encabezados= [\"id\",\"precio\",\"tipo\",\"contrato\",\"localizacion\",\"banios\",\"habitaciones\",\"superficie\"]\n",
    "df= df.T\n",
    "#cambio los encabezados\n",
    "df.columns= lista_encabezados\n",
    "\n",
    "#elimino la primera fila\n",
    "df.drop([0], inplace= True)\n",
    "\n",
    "#pongo el formato correcto\n",
    "df[\"id\"]=df[\"id\"].astype(float)\n",
    "df[\"banios\"]=df[\"banios\"].astype(float)\n",
    "df[\"precio\"]=df[\"precio\"].astype(float)\n",
    "df[\"habitaciones\"]=df[\"habitaciones\"].astype(float)\n",
    "df[\"superficie\"]=df[\"superficie\"].astype(float)\n",
    "df.info()"
   ]
  },
  {
   "cell_type": "code",
   "execution_count": 23,
   "metadata": {},
   "outputs": [
    {
     "ename": "ValueError",
     "evalue": "Columns must be same length as key",
     "output_type": "error",
     "traceback": [
      "\u001b[1;31m---------------------------------------------------------------------------\u001b[0m",
      "\u001b[1;31mValueError\u001b[0m                                Traceback (most recent call last)",
      "\u001b[1;32m~\\AppData\\Local\\Temp\\ipykernel_12888\\2583528213.py\u001b[0m in \u001b[0;36m?\u001b[1;34m()\u001b[0m\n\u001b[0;32m      1\u001b[0m \u001b[0mdf\u001b[0m\u001b[1;33m=\u001b[0m\u001b[0mpd\u001b[0m\u001b[1;33m.\u001b[0m\u001b[0mDataFrame\u001b[0m\u001b[1;33m(\u001b[0m\u001b[0mlista_strings\u001b[0m\u001b[1;33m,\u001b[0m \u001b[0mcolumns\u001b[0m\u001b[1;33m=\u001b[0m\u001b[1;33m[\u001b[0m\u001b[1;34m\"todo\"\u001b[0m\u001b[1;33m]\u001b[0m\u001b[1;33m)\u001b[0m\u001b[1;33m\u001b[0m\u001b[1;33m\u001b[0m\u001b[0m\n\u001b[1;32m----> 2\u001b[1;33m \u001b[0mdf\u001b[0m\u001b[1;33m[\u001b[0m\u001b[1;34m\"todo\"\u001b[0m\u001b[1;33m]\u001b[0m\u001b[1;33m=\u001b[0m \u001b[0mdf\u001b[0m\u001b[1;33m[\u001b[0m\u001b[1;34m\"todo\"\u001b[0m\u001b[1;33m]\u001b[0m\u001b[1;33m.\u001b[0m\u001b[0mstr\u001b[0m\u001b[1;33m.\u001b[0m\u001b[0msplit\u001b[0m\u001b[1;33m(\u001b[0m\u001b[1;34m\" \"\u001b[0m\u001b[1;33m,\u001b[0m \u001b[0mexpand\u001b[0m\u001b[1;33m=\u001b[0m\u001b[1;32mTrue\u001b[0m\u001b[1;33m)\u001b[0m\u001b[1;33m\u001b[0m\u001b[1;33m\u001b[0m\u001b[0m\n\u001b[0m",
      "\u001b[1;32m~\\AppData\\Local\\Packages\\PythonSoftwareFoundation.Python.3.11_qbz5n2kfra8p0\\LocalCache\\local-packages\\Python311\\site-packages\\pandas\\core\\frame.py\u001b[0m in \u001b[0;36m?\u001b[1;34m(self, key, value)\u001b[0m\n\u001b[0;32m   4297\u001b[0m             \u001b[0mself\u001b[0m\u001b[1;33m.\u001b[0m\u001b[0m_setitem_frame\u001b[0m\u001b[1;33m(\u001b[0m\u001b[0mkey\u001b[0m\u001b[1;33m,\u001b[0m \u001b[0mvalue\u001b[0m\u001b[1;33m)\u001b[0m\u001b[1;33m\u001b[0m\u001b[1;33m\u001b[0m\u001b[0m\n\u001b[0;32m   4298\u001b[0m         \u001b[1;32melif\u001b[0m \u001b[0misinstance\u001b[0m\u001b[1;33m(\u001b[0m\u001b[0mkey\u001b[0m\u001b[1;33m,\u001b[0m \u001b[1;33m(\u001b[0m\u001b[0mSeries\u001b[0m\u001b[1;33m,\u001b[0m \u001b[0mnp\u001b[0m\u001b[1;33m.\u001b[0m\u001b[0mndarray\u001b[0m\u001b[1;33m,\u001b[0m \u001b[0mlist\u001b[0m\u001b[1;33m,\u001b[0m \u001b[0mIndex\u001b[0m\u001b[1;33m)\u001b[0m\u001b[1;33m)\u001b[0m\u001b[1;33m:\u001b[0m\u001b[1;33m\u001b[0m\u001b[1;33m\u001b[0m\u001b[0m\n\u001b[0;32m   4299\u001b[0m             \u001b[0mself\u001b[0m\u001b[1;33m.\u001b[0m\u001b[0m_setitem_array\u001b[0m\u001b[1;33m(\u001b[0m\u001b[0mkey\u001b[0m\u001b[1;33m,\u001b[0m \u001b[0mvalue\u001b[0m\u001b[1;33m)\u001b[0m\u001b[1;33m\u001b[0m\u001b[1;33m\u001b[0m\u001b[0m\n\u001b[0;32m   4300\u001b[0m         \u001b[1;32melif\u001b[0m \u001b[0misinstance\u001b[0m\u001b[1;33m(\u001b[0m\u001b[0mvalue\u001b[0m\u001b[1;33m,\u001b[0m \u001b[0mDataFrame\u001b[0m\u001b[1;33m)\u001b[0m\u001b[1;33m:\u001b[0m\u001b[1;33m\u001b[0m\u001b[1;33m\u001b[0m\u001b[0m\n\u001b[1;32m-> 4301\u001b[1;33m             \u001b[0mself\u001b[0m\u001b[1;33m.\u001b[0m\u001b[0m_set_item_frame_value\u001b[0m\u001b[1;33m(\u001b[0m\u001b[0mkey\u001b[0m\u001b[1;33m,\u001b[0m \u001b[0mvalue\u001b[0m\u001b[1;33m)\u001b[0m\u001b[1;33m\u001b[0m\u001b[1;33m\u001b[0m\u001b[0m\n\u001b[0m\u001b[0;32m   4302\u001b[0m         elif (\n\u001b[0;32m   4303\u001b[0m             \u001b[0mis_list_like\u001b[0m\u001b[1;33m(\u001b[0m\u001b[0mvalue\u001b[0m\u001b[1;33m)\u001b[0m\u001b[1;33m\u001b[0m\u001b[1;33m\u001b[0m\u001b[0m\n\u001b[0;32m   4304\u001b[0m             \u001b[1;32mand\u001b[0m \u001b[1;32mnot\u001b[0m \u001b[0mself\u001b[0m\u001b[1;33m.\u001b[0m\u001b[0mcolumns\u001b[0m\u001b[1;33m.\u001b[0m\u001b[0mis_unique\u001b[0m\u001b[1;33m\u001b[0m\u001b[1;33m\u001b[0m\u001b[0m\n",
      "\u001b[1;32m~\\AppData\\Local\\Packages\\PythonSoftwareFoundation.Python.3.11_qbz5n2kfra8p0\\LocalCache\\local-packages\\Python311\\site-packages\\pandas\\core\\frame.py\u001b[0m in \u001b[0;36m?\u001b[1;34m(self, key, value)\u001b[0m\n\u001b[0;32m   4425\u001b[0m             \u001b[0mloc\u001b[0m \u001b[1;33m=\u001b[0m \u001b[0mself\u001b[0m\u001b[1;33m.\u001b[0m\u001b[0mcolumns\u001b[0m\u001b[1;33m.\u001b[0m\u001b[0mget_loc\u001b[0m\u001b[1;33m(\u001b[0m\u001b[0mkey\u001b[0m\u001b[1;33m)\u001b[0m\u001b[1;33m\u001b[0m\u001b[1;33m\u001b[0m\u001b[0m\n\u001b[0;32m   4426\u001b[0m             \u001b[0mcols\u001b[0m \u001b[1;33m=\u001b[0m \u001b[0mself\u001b[0m\u001b[1;33m.\u001b[0m\u001b[0mcolumns\u001b[0m\u001b[1;33m[\u001b[0m\u001b[0mloc\u001b[0m\u001b[1;33m]\u001b[0m\u001b[1;33m\u001b[0m\u001b[1;33m\u001b[0m\u001b[0m\n\u001b[0;32m   4427\u001b[0m             \u001b[0mlen_cols\u001b[0m \u001b[1;33m=\u001b[0m \u001b[1;36m1\u001b[0m \u001b[1;32mif\u001b[0m \u001b[0mis_scalar\u001b[0m\u001b[1;33m(\u001b[0m\u001b[0mcols\u001b[0m\u001b[1;33m)\u001b[0m \u001b[1;32mor\u001b[0m \u001b[0misinstance\u001b[0m\u001b[1;33m(\u001b[0m\u001b[0mcols\u001b[0m\u001b[1;33m,\u001b[0m \u001b[0mtuple\u001b[0m\u001b[1;33m)\u001b[0m \u001b[1;32melse\u001b[0m \u001b[0mlen\u001b[0m\u001b[1;33m(\u001b[0m\u001b[0mcols\u001b[0m\u001b[1;33m)\u001b[0m\u001b[1;33m\u001b[0m\u001b[1;33m\u001b[0m\u001b[0m\n\u001b[0;32m   4428\u001b[0m             \u001b[1;32mif\u001b[0m \u001b[0mlen_cols\u001b[0m \u001b[1;33m!=\u001b[0m \u001b[0mlen\u001b[0m\u001b[1;33m(\u001b[0m\u001b[0mvalue\u001b[0m\u001b[1;33m.\u001b[0m\u001b[0mcolumns\u001b[0m\u001b[1;33m)\u001b[0m\u001b[1;33m:\u001b[0m\u001b[1;33m\u001b[0m\u001b[1;33m\u001b[0m\u001b[0m\n\u001b[1;32m-> 4429\u001b[1;33m                 \u001b[1;32mraise\u001b[0m \u001b[0mValueError\u001b[0m\u001b[1;33m(\u001b[0m\u001b[1;34m\"Columns must be same length as key\"\u001b[0m\u001b[1;33m)\u001b[0m\u001b[1;33m\u001b[0m\u001b[1;33m\u001b[0m\u001b[0m\n\u001b[0m\u001b[0;32m   4430\u001b[0m \u001b[1;33m\u001b[0m\u001b[0m\n\u001b[0;32m   4431\u001b[0m             \u001b[1;31m# align right-hand-side columns if self.columns\u001b[0m\u001b[1;33m\u001b[0m\u001b[1;33m\u001b[0m\u001b[0m\n\u001b[0;32m   4432\u001b[0m             \u001b[1;31m# is multi-index and self[key] is a sub-frame\u001b[0m\u001b[1;33m\u001b[0m\u001b[1;33m\u001b[0m\u001b[0m\n",
      "\u001b[1;31mValueError\u001b[0m: Columns must be same length as key"
     ]
    }
   ],
   "source": [
    "df=pd.DataFrame(lista_strings, columns=[\"todo\"])\n",
    "df[\"todo\"]= df[\"todo\"].str.split(\" \", expand=True)"
   ]
  }
 ],
 "metadata": {
  "kernelspec": {
   "display_name": "Python 3",
   "language": "python",
   "name": "python3"
  },
  "language_info": {
   "codemirror_mode": {
    "name": "ipython",
    "version": 3
   },
   "file_extension": ".py",
   "mimetype": "text/x-python",
   "name": "python",
   "nbconvert_exporter": "python",
   "pygments_lexer": "ipython3",
   "version": "3.11.9"
  }
 },
 "nbformat": 4,
 "nbformat_minor": 2
}
